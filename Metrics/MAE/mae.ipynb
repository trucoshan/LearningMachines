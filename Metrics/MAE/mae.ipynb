{
 "cells": [
  {
   "cell_type": "markdown",
   "id": "e703e4a0",
   "metadata": {},
   "source": [
    "**Definition of MAE:**\n",
    "\n",
    "Mean Absolute Error (MAE) is a regression metric that measures the average magnitude of errors between predicted and actual values, without considering their direction. It calculates the average absolute difference between predicted and true values, treating all errors equally.\n"
   ]
  },
  {
   "cell_type": "markdown",
   "id": "8af5fef4",
   "metadata": {},
   "source": [
    "**Importing libraries**"
   ]
  },
  {
   "cell_type": "code",
   "execution_count": 1,
   "id": "bef7f31b",
   "metadata": {},
   "outputs": [],
   "source": [
    "from sklearn.metrics import mean_absolute_error"
   ]
  },
  {
   "cell_type": "code",
   "execution_count": 2,
   "id": "1004e455",
   "metadata": {},
   "outputs": [
    {
     "name": "stdout",
     "output_type": "stream",
     "text": [
      "Mean Absolute Error: 0.5\n"
     ]
    }
   ],
   "source": [
    "# Actual values\n",
    "y_true = [3, -0.5, 2, 7]\n",
    "# Predicted values\n",
    "y_pred = [2.5, 0.0, 2, 8]\n",
    "\n",
    "# Calculate MAE\n",
    "mae = mean_absolute_error(y_true, y_pred)\n",
    "print(f'Mean Absolute Error: {mae}')"
   ]
  }
 ],
 "metadata": {
  "kernelspec": {
   "display_name": "base",
   "language": "python",
   "name": "python3"
  },
  "language_info": {
   "codemirror_mode": {
    "name": "ipython",
    "version": 3
   },
   "file_extension": ".py",
   "mimetype": "text/x-python",
   "name": "python",
   "nbconvert_exporter": "python",
   "pygments_lexer": "ipython3",
   "version": "3.13.5"
  }
 },
 "nbformat": 4,
 "nbformat_minor": 5
}
