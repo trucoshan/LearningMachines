{
 "cells": [
  {
   "cell_type": "markdown",
   "id": "1c8fe5e6",
   "metadata": {},
   "source": [
    "**Definition of MSE:**\n",
    "\n",
    "Mean Squared Error (MSE) measures the average of the squares of the errors—specifically, the average squared difference between the true values and the predicted values in a dataset. Below are the definition and example programs for MSE.\n"
   ]
  },
  {
   "cell_type": "markdown",
   "id": "7fa157fc",
   "metadata": {},
   "source": [
    "**Importing libraries**"
   ]
  },
  {
   "cell_type": "code",
   "execution_count": 1,
   "id": "d1c39592",
   "metadata": {},
   "outputs": [],
   "source": [
    "from IPython.display import display, Image\n",
    "import numpy as np\n",
    "from sklearn.metrics import mean_squared_error"
   ]
  },
  {
   "cell_type": "code",
   "execution_count": null,
   "id": "f2c50e3f",
   "metadata": {},
   "outputs": [
    {
     "name": "stdout",
     "output_type": "stream",
     "text": [
      "MSE using NumPy: 0.21606\n",
      "MSE using scikit-learn: 0.21606\n"
     ]
    }
   ],
   "source": [
    "# True values and predicted values\n",
    "y_true = [1, 1, 2, 2, 4]\n",
    "y_pred = [0.6, 1.29, 1.99, 2.69, 3.4]\n",
    "\n",
    "# Method 1: Using NumPy\n",
    "mse_numpy = np.square(np.subtract(y_true, y_pred)).mean()\n",
    "print(\"MSE using NumPy:\", mse_numpy)\n",
    "\n",
    "# Method 2: Using scikit-learn\n",
    "mse_sklearn = mean_squared_error(y_true, y_pred)\n",
    "print(\"MSE using scikit-learn:\", mse_sklearn)\n"
   ]
  }
 ],
 "metadata": {
  "kernelspec": {
   "display_name": "base",
   "language": "python",
   "name": "python3"
  },
  "language_info": {
   "codemirror_mode": {
    "name": "ipython",
    "version": 3
   },
   "file_extension": ".py",
   "mimetype": "text/x-python",
   "name": "python",
   "nbconvert_exporter": "python",
   "pygments_lexer": "ipython3",
   "version": "3.13.5"
  }
 },
 "nbformat": 4,
 "nbformat_minor": 5
}
