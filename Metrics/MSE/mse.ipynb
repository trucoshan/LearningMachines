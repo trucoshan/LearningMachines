{
 "cells": [
  {
   "cell_type": "markdown",
   "id": "1c8fe5e6",
   "metadata": {},
   "source": [
    "**Definition of MSE:**\n",
    "\n",
    "Mean Squared Error (MSE) measures the average of the squares of the errors—specifically, the average squared difference between the true values and the predicted values in a dataset. Below are the definition and example programs for MSE.\n"
   ]
  },
  {
   "cell_type": "markdown",
   "id": "7fa157fc",
   "metadata": {},
   "source": [
    "**Importing libraries**"
   ]
  },
  {
   "cell_type": "code",
   "execution_count": 4,
   "id": "d1c39592",
   "metadata": {},
   "outputs": [],
   "source": [
    "import numpy as np"
   ]
  },
  {
   "cell_type": "code",
   "execution_count": null,
   "id": "f2c50e3f",
   "metadata": {},
   "outputs": [
    {
     "name": "stdout",
     "output_type": "stream",
     "text": [
      "MSE: 0.375\n"
     ]
    }
   ],
   "source": [
    "def mse(y_true, y_pred):\n",
    "    y_true = np.array(y_true)\n",
    "    y_pred = np.array(y_pred)\n",
    "    return np.mean((y_pred - y_true) ** 2)\n",
    "\n",
    "# Test usage:\n",
    "y_true = [3, -0.5, 2, 7]\n",
    "y_pred = [2.5, 0.0, 2, 8]\n",
    "\n",
    "print(\"MSE:\", mse(y_true, y_pred))"
   ]
  }
 ],
 "metadata": {
  "kernelspec": {
   "display_name": "base",
   "language": "python",
   "name": "python3"
  },
  "language_info": {
   "codemirror_mode": {
    "name": "ipython",
    "version": 3
   },
   "file_extension": ".py",
   "mimetype": "text/x-python",
   "name": "python",
   "nbconvert_exporter": "python",
   "pygments_lexer": "ipython3",
   "version": "3.13.5"
  }
 },
 "nbformat": 4,
 "nbformat_minor": 5
}
